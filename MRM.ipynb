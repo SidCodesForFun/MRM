{
 "cells": [
  {
   "cell_type": "code",
   "execution_count": 80,
   "id": "5c707307",
   "metadata": {},
   "outputs": [],
   "source": [
    "import pandas as pd\n",
    "import numpy as np\n",
    "import matplotlib.pyplot as pl"
   ]
  },
  {
   "cell_type": "code",
   "execution_count": 61,
   "id": "31337ebc",
   "metadata": {},
   "outputs": [
    {
     "data": {
      "text/plain": [
       "Index(['car_ID', 'symboling', 'CarName', 'fueltype', 'aspiration',\n",
       "       'doornumber', 'carbody', 'drivewheel', 'enginelocation', 'wheelbase',\n",
       "       'carlength', 'carwidth', 'carheight', 'curbweight', 'enginetype',\n",
       "       'cylindernumber', 'enginesize', 'fuelsystem', 'boreratio', 'stroke',\n",
       "       'compressionratio', 'horsepower', 'peakrpm', 'citympg', 'highwaympg',\n",
       "       'price'],\n",
       "      dtype='object')"
      ]
     },
     "execution_count": 61,
     "metadata": {},
     "output_type": "execute_result"
    }
   ],
   "source": [
    "#one hot encoding\n",
    "Cars = pd.read_csv('CarPrice_Assignment.csv')\n",
    "Cars.columns"
   ]
  },
  {
   "cell_type": "raw",
   "id": "72e8661b",
   "metadata": {},
   "source": []
  },
  {
   "cell_type": "code",
   "execution_count": 45,
   "id": "0d3fea08",
   "metadata": {},
   "outputs": [
    {
     "name": "stdout",
     "output_type": "stream",
     "text": [
      "     car_ID  symboling                   CarName fueltype aspiration  \\\n",
      "0         1          3        alfa-romero giulia      gas        std   \n",
      "1         2          3       alfa-romero stelvio      gas        std   \n",
      "2         3          1  alfa-romero Quadrifoglio      gas        std   \n",
      "3         4          2               audi 100 ls      gas        std   \n",
      "4         5          2                audi 100ls      gas        std   \n",
      "..      ...        ...                       ...      ...        ...   \n",
      "200     201         -1           volvo 145e (sw)      gas        std   \n",
      "201     202         -1               volvo 144ea      gas      turbo   \n",
      "202     203         -1               volvo 244dl      gas        std   \n",
      "203     204         -1                 volvo 246   diesel      turbo   \n",
      "204     205         -1               volvo 264gl      gas      turbo   \n",
      "\n",
      "    doornumber enginelocation  wheelbase  carlength  carwidth  ...  \\\n",
      "0          two          front       88.6      168.8      64.1  ...   \n",
      "1          two          front       88.6      168.8      64.1  ...   \n",
      "2          two          front       94.5      171.2      65.5  ...   \n",
      "3         four          front       99.8      176.6      66.2  ...   \n",
      "4         four          front       99.4      176.6      66.4  ...   \n",
      "..         ...            ...        ...        ...       ...  ...   \n",
      "200       four          front      109.1      188.8      68.9  ...   \n",
      "201       four          front      109.1      188.8      68.8  ...   \n",
      "202       four          front      109.1      188.8      68.9  ...   \n",
      "203       four          front      109.1      188.8      68.9  ...   \n",
      "204       four          front      109.1      188.8      68.9  ...   \n",
      "\n",
      "     highwaympg    price carbody_convertible carbody_hardtop  \\\n",
      "0            27  13495.0                   1               0   \n",
      "1            27  16500.0                   1               0   \n",
      "2            26  16500.0                   0               0   \n",
      "3            30  13950.0                   0               0   \n",
      "4            22  17450.0                   0               0   \n",
      "..          ...      ...                 ...             ...   \n",
      "200          28  16845.0                   0               0   \n",
      "201          25  19045.0                   0               0   \n",
      "202          23  21485.0                   0               0   \n",
      "203          27  22470.0                   0               0   \n",
      "204          25  22625.0                   0               0   \n",
      "\n",
      "     carbody_hatchback carbody_sedan  carbody_wagon  drivewheel_4wd  \\\n",
      "0                    0             0              0               0   \n",
      "1                    0             0              0               0   \n",
      "2                    1             0              0               0   \n",
      "3                    0             1              0               0   \n",
      "4                    0             1              0               1   \n",
      "..                 ...           ...            ...             ...   \n",
      "200                  0             1              0               0   \n",
      "201                  0             1              0               0   \n",
      "202                  0             1              0               0   \n",
      "203                  0             1              0               0   \n",
      "204                  0             1              0               0   \n",
      "\n",
      "     drivewheel_fwd  drivewheel_rwd  \n",
      "0                 0               1  \n",
      "1                 0               1  \n",
      "2                 0               1  \n",
      "3                 1               0  \n",
      "4                 0               0  \n",
      "..              ...             ...  \n",
      "200               0               1  \n",
      "201               0               1  \n",
      "202               0               1  \n",
      "203               0               1  \n",
      "204               0               1  \n",
      "\n",
      "[205 rows x 32 columns]\n"
     ]
    }
   ],
   "source": [
    "Encoded = pd.get_dummies(data = Cars, columns = ['carbody','drivewheel']) \n",
    "print(Encoded)"
   ]
  },
  {
   "cell_type": "code",
   "execution_count": 46,
   "id": "a6770c2e",
   "metadata": {},
   "outputs": [
    {
     "name": "stdout",
     "output_type": "stream",
     "text": [
      "     car_ID  symboling                          CarName fueltype aspiration  \\\n",
      "74       75          1  buick regal sport coupe (turbo)      gas        std   \n",
      "16       17          0                           bmw x5      gas        std   \n",
      "73       74          0            buick century special      gas        std   \n",
      "128     129          3                   porsche boxter      gas        std   \n",
      "17       18          0                           bmw x3      gas        std   \n",
      "49       50          0                        jaguar xk      gas        std   \n",
      "48       49          0                        jaguar xf      gas        std   \n",
      "72       73          3                    buick skylark      gas        std   \n",
      "71       72         -1          buick opel isuzu deluxe      gas        std   \n",
      "127     128          3                  porsche cayenne      gas        std   \n",
      "126     127          3                porcshce panamera      gas        std   \n",
      "47       48          0                        jaguar xj      gas        std   \n",
      "70       71         -1                    buick skyhawk   diesel      turbo   \n",
      "129     130          1                  porsche cayenne      gas        std   \n",
      "15       16          0                           bmw x4      gas        std   \n",
      "68       69         -1         buick century luxus (sw)   diesel      turbo   \n",
      "69       70          0                    buick century   diesel      turbo   \n",
      "67       68         -1         buick electra 225 custom   diesel      turbo   \n",
      "14       15          1                           bmw z4      gas        std   \n",
      "8         9          1                        audi 4000      gas      turbo   \n",
      "\n",
      "    doornumber      carbody drivewheel enginelocation  wheelbase  ...  \\\n",
      "74         two      hardtop        rwd          front      112.0  ...   \n",
      "16         two        sedan        rwd          front      103.5  ...   \n",
      "73        four        sedan        rwd          front      120.9  ...   \n",
      "128        two  convertible        rwd           rear       89.5  ...   \n",
      "17        four        sedan        rwd          front      110.0  ...   \n",
      "49         two        sedan        rwd          front      102.0  ...   \n",
      "48        four        sedan        rwd          front      113.0  ...   \n",
      "72         two  convertible        rwd          front       96.6  ...   \n",
      "71        four        sedan        rwd          front      115.6  ...   \n",
      "127        two      hardtop        rwd           rear       89.5  ...   \n",
      "126        two      hardtop        rwd           rear       89.5  ...   \n",
      "47        four        sedan        rwd          front      113.0  ...   \n",
      "70        four        sedan        rwd          front      115.6  ...   \n",
      "129        two    hatchback        rwd          front       98.4  ...   \n",
      "15        four        sedan        rwd          front      103.5  ...   \n",
      "68        four        wagon        rwd          front      110.0  ...   \n",
      "69         two      hardtop        rwd          front      106.7  ...   \n",
      "67        four        sedan        rwd          front      110.0  ...   \n",
      "14        four        sedan        rwd          front      103.5  ...   \n",
      "8         four        sedan        fwd          front      105.8  ...   \n",
      "\n",
      "     enginesize  fuelsystem  boreratio  stroke compressionratio horsepower  \\\n",
      "74          304        mpfi       3.80    3.35              8.0        184   \n",
      "16          209        mpfi       3.62    3.39              8.0        182   \n",
      "73          308        mpfi       3.80    3.35              8.0        184   \n",
      "128         194        mpfi       3.74    2.90              9.5        207   \n",
      "17          209        mpfi       3.62    3.39              8.0        182   \n",
      "49          326        mpfi       3.54    2.76             11.5        262   \n",
      "48          258        mpfi       3.63    4.17              8.1        176   \n",
      "72          234        mpfi       3.46    3.10              8.3        155   \n",
      "71          234        mpfi       3.46    3.10              8.3        155   \n",
      "127         194        mpfi       3.74    2.90              9.5        207   \n",
      "126         194        mpfi       3.74    2.90              9.5        207   \n",
      "47          258        mpfi       3.63    4.17              8.1        176   \n",
      "70          183         idi       3.58    3.64             21.5        123   \n",
      "129         203        mpfi       3.94    3.11             10.0        288   \n",
      "15          209        mpfi       3.62    3.39              8.0        182   \n",
      "68          183         idi       3.58    3.64             21.5        123   \n",
      "69          183         idi       3.58    3.64             21.5        123   \n",
      "67          183         idi       3.58    3.64             21.5        123   \n",
      "14          164        mpfi       3.31    3.19              9.0        121   \n",
      "8           131        mpfi       3.13    3.40              8.3        140   \n",
      "\n",
      "     peakrpm citympg  highwaympg    price  \n",
      "74      4500      14          16  45400.0  \n",
      "16      5400      16          22  41315.0  \n",
      "73      4500      14          16  40960.0  \n",
      "128     5900      17          25  37028.0  \n",
      "17      5400      15          20  36880.0  \n",
      "49      5000      13          17  36000.0  \n",
      "48      4750      15          19  35550.0  \n",
      "72      4750      16          18  35056.0  \n",
      "71      4750      16          18  34184.0  \n",
      "127     5900      17          25  34028.0  \n",
      "126     5900      17          25  32528.0  \n",
      "47      4750      15          19  32250.0  \n",
      "70      4350      22          25  31600.0  \n",
      "129     5750      17          28  31400.5  \n",
      "15      5400      16          22  30760.0  \n",
      "68      4350      22          25  28248.0  \n",
      "69      4350      22          25  28176.0  \n",
      "67      4350      22          25  25552.0  \n",
      "14      4250      20          25  24565.0  \n",
      "8       5500      17          20  23875.0  \n",
      "\n",
      "[20 rows x 26 columns]\n"
     ]
    }
   ],
   "source": [
    "Cars1 = Cars.sort_values(by='price',ascending = False)\n",
    "print(Cars1.head(20))"
   ]
  },
  {
   "cell_type": "code",
   "execution_count": null,
   "id": "402616bd",
   "metadata": {},
   "outputs": [],
   "source": [
    "#dimensionality reduction"
   ]
  },
  {
   "cell_type": "code",
   "execution_count": 78,
   "id": "c7294471",
   "metadata": {},
   "outputs": [
    {
     "name": "stdout",
     "output_type": "stream",
     "text": [
      "     horsepower  enginesize cylindernumber drivewheel  carlength  carwidth  \\\n",
      "0           111         130           four        rwd      168.8      64.1   \n",
      "1           111         130           four        rwd      168.8      64.1   \n",
      "2           154         152            six        rwd      171.2      65.5   \n",
      "3           102         109           four        fwd      176.6      66.2   \n",
      "4           115         136           five        4wd      176.6      66.4   \n",
      "..          ...         ...            ...        ...        ...       ...   \n",
      "200         114         141           four        rwd      188.8      68.9   \n",
      "201         160         141           four        rwd      188.8      68.8   \n",
      "202         134         173            six        rwd      188.8      68.9   \n",
      "203         106         145            six        rwd      188.8      68.9   \n",
      "204         114         141           four        rwd      188.8      68.9   \n",
      "\n",
      "     highwaympg  wheelbase  curbweight fuelsystem  \n",
      "0            27       88.6        2548       mpfi  \n",
      "1            27       88.6        2548       mpfi  \n",
      "2            26       94.5        2823       mpfi  \n",
      "3            30       99.8        2337       mpfi  \n",
      "4            22       99.4        2824       mpfi  \n",
      "..          ...        ...         ...        ...  \n",
      "200          28      109.1        2952       mpfi  \n",
      "201          25      109.1        3049       mpfi  \n",
      "202          23      109.1        3012       mpfi  \n",
      "203          27      109.1        3217        idi  \n",
      "204          25      109.1        3062       mpfi  \n",
      "\n",
      "[205 rows x 10 columns]\n"
     ]
    }
   ],
   "source": [
    "Cars = Cars[['horsepower','enginesize','cylindernumber','drivewheel','carlength','carwidth','highwaympg','wheelbase',\n",
    "                   'curbweight','fuelsystem']]\n",
    "print(Cars)"
   ]
  },
  {
   "cell_type": "code",
   "execution_count": null,
   "id": "6f4607ec",
   "metadata": {},
   "outputs": [],
   "source": []
  },
  {
   "cell_type": "code",
   "execution_count": 48,
   "id": "49a67b89",
   "metadata": {},
   "outputs": [
    {
     "data": {
      "text/plain": [
       "array(['four', 'six', 'five', 'three', 'twelve', 'two', 'eight'],\n",
       "      dtype=object)"
      ]
     },
     "execution_count": 48,
     "metadata": {},
     "output_type": "execute_result"
    }
   ],
   "source": [
    "Cars['cylindernumber'].unique()"
   ]
  },
  {
   "cell_type": "code",
   "execution_count": 49,
   "id": "707b8973",
   "metadata": {},
   "outputs": [
    {
     "name": "stdout",
     "output_type": "stream",
     "text": [
      "     horsepower  enginesize cylindernumber drivewheel  carlength  carwidth  \\\n",
      "0           111         130              4        rwd      168.8      64.1   \n",
      "1           111         130              4        rwd      168.8      64.1   \n",
      "2           154         152              6        rwd      171.2      65.5   \n",
      "3           102         109              4        fwd      176.6      66.2   \n",
      "4           115         136              5        4wd      176.6      66.4   \n",
      "..          ...         ...            ...        ...        ...       ...   \n",
      "200         114         141              4        rwd      188.8      68.9   \n",
      "201         160         141              4        rwd      188.8      68.8   \n",
      "202         134         173              6        rwd      188.8      68.9   \n",
      "203         106         145              6        rwd      188.8      68.9   \n",
      "204         114         141              4        rwd      188.8      68.9   \n",
      "\n",
      "     highwaympg  wheelbase  curbweight fuelsystem  \n",
      "0            27       88.6        2548       mpfi  \n",
      "1            27       88.6        2548       mpfi  \n",
      "2            26       94.5        2823       mpfi  \n",
      "3            30       99.8        2337       mpfi  \n",
      "4            22       99.4        2824       mpfi  \n",
      "..          ...        ...         ...        ...  \n",
      "200          28      109.1        2952       mpfi  \n",
      "201          25      109.1        3049       mpfi  \n",
      "202          23      109.1        3012       mpfi  \n",
      "203          27      109.1        3217        idi  \n",
      "204          25      109.1        3062       mpfi  \n",
      "\n",
      "[205 rows x 10 columns]\n"
     ]
    }
   ],
   "source": [
    "for i in range(len(Cars)):\n",
    "    if(Cars.loc[i,'cylindernumber'] == 'four'):\n",
    "        Cars.loc[i,'cylindernumber'] = 4\n",
    "    if(Cars.loc[i,'cylindernumber'] == 'six'):\n",
    "        Cars.loc[i,'cylindernumber'] = 6\n",
    "    if(Cars.loc[i,'cylindernumber'] == 'three'):\n",
    "        Cars.loc[i,'cylindernumber'] = 3\n",
    "    if(Cars.loc[i,'cylindernumber'] == 'twelve'):\n",
    "        Cars.loc[i,'cylindernumber'] = 12\n",
    "    if(Cars.loc[i,'cylindernumber'] == 'two'):\n",
    "        Cars.loc[i,'cylindernumber'] = 2\n",
    "    if(Cars.loc[i,'cylindernumber'] == 'eight'):\n",
    "        Cars.loc[i,'cylindernumber'] = 8\n",
    "    if(Cars.loc[i,'cylindernumber'] == 'five'):\n",
    "        Cars.loc[i,'cylindernumber'] = 5\n",
    "print(Cars)\n"
   ]
  },
  {
   "cell_type": "code",
   "execution_count": 72,
   "id": "673a2980",
   "metadata": {},
   "outputs": [
    {
     "name": "stdout",
     "output_type": "stream",
     "text": [
      "Index(['horsepower', 'enginesize', 'cylindernumber', 'drivewheel', 'carlength',\n",
      "       'carwidth', 'highwaympg', 'wheelbase', 'curbweight', 'fuelsystem',\n",
      "       'price'],\n",
      "      dtype='object')\n"
     ]
    }
   ],
   "source": [
    "print(Cars.columns)"
   ]
  },
  {
   "cell_type": "code",
   "execution_count": 73,
   "id": "842054a1",
   "metadata": {},
   "outputs": [
    {
     "name": "stdout",
     "output_type": "stream",
     "text": [
      "     horsepower  enginesize cylindernumber  carlength  carwidth  highwaympg  \\\n",
      "0           111         130           four      168.8      64.1          27   \n",
      "1           111         130           four      168.8      64.1          27   \n",
      "2           154         152            six      171.2      65.5          26   \n",
      "3           102         109           four      176.6      66.2          30   \n",
      "4           115         136           five      176.6      66.4          22   \n",
      "..          ...         ...            ...        ...       ...         ...   \n",
      "200         114         141           four      188.8      68.9          28   \n",
      "201         160         141           four      188.8      68.8          25   \n",
      "202         134         173            six      188.8      68.9          23   \n",
      "203         106         145            six      188.8      68.9          27   \n",
      "204         114         141           four      188.8      68.9          25   \n",
      "\n",
      "     wheelbase  curbweight    price  fuelsystem_1bbl  fuelsystem_2bbl  \\\n",
      "0         88.6        2548  13495.0                0                0   \n",
      "1         88.6        2548  16500.0                0                0   \n",
      "2         94.5        2823  16500.0                0                0   \n",
      "3         99.8        2337  13950.0                0                0   \n",
      "4         99.4        2824  17450.0                0                0   \n",
      "..         ...         ...      ...              ...              ...   \n",
      "200      109.1        2952  16845.0                0                0   \n",
      "201      109.1        3049  19045.0                0                0   \n",
      "202      109.1        3012  21485.0                0                0   \n",
      "203      109.1        3217  22470.0                0                0   \n",
      "204      109.1        3062  22625.0                0                0   \n",
      "\n",
      "     fuelsystem_4bbl  fuelsystem_idi  fuelsystem_mfi  fuelsystem_mpfi  \\\n",
      "0                  0               0               0                1   \n",
      "1                  0               0               0                1   \n",
      "2                  0               0               0                1   \n",
      "3                  0               0               0                1   \n",
      "4                  0               0               0                1   \n",
      "..               ...             ...             ...              ...   \n",
      "200                0               0               0                1   \n",
      "201                0               0               0                1   \n",
      "202                0               0               0                1   \n",
      "203                0               1               0                0   \n",
      "204                0               0               0                1   \n",
      "\n",
      "     fuelsystem_spdi  fuelsystem_spfi  drivewheel_4wd  drivewheel_fwd  \\\n",
      "0                  0                0               0               0   \n",
      "1                  0                0               0               0   \n",
      "2                  0                0               0               0   \n",
      "3                  0                0               0               1   \n",
      "4                  0                0               1               0   \n",
      "..               ...              ...             ...             ...   \n",
      "200                0                0               0               0   \n",
      "201                0                0               0               0   \n",
      "202                0                0               0               0   \n",
      "203                0                0               0               0   \n",
      "204                0                0               0               0   \n",
      "\n",
      "     drivewheel_rwd  \n",
      "0                 1  \n",
      "1                 1  \n",
      "2                 1  \n",
      "3                 0  \n",
      "4                 0  \n",
      "..              ...  \n",
      "200               1  \n",
      "201               1  \n",
      "202               1  \n",
      "203               1  \n",
      "204               1  \n",
      "\n",
      "[205 rows x 20 columns]\n"
     ]
    }
   ],
   "source": [
    "encore = pd.get_dummies(data = Cars,columns = ['fuelsystem','drivewheel'])\n",
    "print(encore)"
   ]
  },
  {
   "cell_type": "code",
   "execution_count": 52,
   "id": "44e21d70",
   "metadata": {},
   "outputs": [],
   "source": [
    "#z-score normalization"
   ]
  },
  {
   "cell_type": "code",
   "execution_count": 74,
   "id": "863fb4f3",
   "metadata": {},
   "outputs": [
    {
     "name": "stdout",
     "output_type": "stream",
     "text": [
      "     carlength  carwidth  curbweight cylindernumber  drivewheel_4wd  \\\n",
      "0    -0.425480 -0.842719   -0.014531            NaN       -0.213762   \n",
      "1    -0.425480 -0.842719   -0.014531            NaN       -0.213762   \n",
      "2    -0.230948 -0.190101    0.513625            NaN       -0.213762   \n",
      "3     0.206750  0.136209   -0.419770            NaN       -0.213762   \n",
      "4     0.206750  0.229440    0.515545            NaN        4.655271   \n",
      "..         ...       ...         ...            ...             ...   \n",
      "200   1.195622  1.394830    0.761377            NaN       -0.213762   \n",
      "201   1.195622  1.348215    0.947672            NaN       -0.213762   \n",
      "202   1.195622  1.394830    0.876611            NaN       -0.213762   \n",
      "203   1.195622  1.394830    1.270327            NaN       -0.213762   \n",
      "204   1.195622  1.394830    0.972640            NaN       -0.213762   \n",
      "\n",
      "     drivewheel_fwd  drivewheel_rwd  enginesize  fuelsystem_1bbl  \\\n",
      "0         -1.185276        1.299649    0.074267        -0.237538   \n",
      "1         -1.185276        1.299649    0.074267        -0.237538   \n",
      "2         -1.185276        1.299649    0.602571        -0.237538   \n",
      "3          0.839570       -0.765685   -0.430023        -0.237538   \n",
      "4         -1.185276       -0.765685    0.218350        -0.237538   \n",
      "..              ...             ...         ...              ...   \n",
      "200       -1.185276        1.299649    0.338419        -0.237538   \n",
      "201       -1.185276        1.299649    0.338419        -0.237538   \n",
      "202       -1.185276        1.299649    1.106861        -0.237538   \n",
      "203       -1.185276        1.299649    0.434474        -0.237538   \n",
      "204       -1.185276        1.299649    0.338419        -0.237538   \n",
      "\n",
      "     fuelsystem_2bbl  fuelsystem_4bbl  fuelsystem_idi  fuelsystem_mfi  \\\n",
      "0          -0.687389        -0.121569       -0.327995       -0.069843   \n",
      "1          -0.687389        -0.121569       -0.327995       -0.069843   \n",
      "2          -0.687389        -0.121569       -0.327995       -0.069843   \n",
      "3          -0.687389        -0.121569       -0.327995       -0.069843   \n",
      "4          -0.687389        -0.121569       -0.327995       -0.069843   \n",
      "..               ...              ...             ...             ...   \n",
      "200        -0.687389        -0.121569       -0.327995       -0.069843   \n",
      "201        -0.687389        -0.121569       -0.327995       -0.069843   \n",
      "202        -0.687389        -0.121569       -0.327995       -0.069843   \n",
      "203        -0.687389        -0.121569        3.033954       -0.069843   \n",
      "204        -0.687389        -0.121569       -0.327995       -0.069843   \n",
      "\n",
      "     fuelsystem_mpfi  fuelsystem_spdi  fuelsystem_spfi  highwaympg  \\\n",
      "0           1.084016        -0.213762        -0.069843   -0.544725   \n",
      "1           1.084016        -0.213762        -0.069843   -0.544725   \n",
      "2           1.084016        -0.213762        -0.069843   -0.689938   \n",
      "3           1.084016        -0.213762        -0.069843   -0.109087   \n",
      "4           1.084016        -0.213762        -0.069843   -1.270789   \n",
      "..               ...              ...              ...         ...   \n",
      "200         1.084016        -0.213762        -0.069843   -0.399512   \n",
      "201         1.084016        -0.213762        -0.069843   -0.835151   \n",
      "202         1.084016        -0.213762        -0.069843   -1.125577   \n",
      "203        -0.917996        -0.213762        -0.069843   -0.544725   \n",
      "204         1.084016        -0.213762        -0.069843   -0.835151   \n",
      "\n",
      "     horsepower     price  wheelbase  \n",
      "0      0.174057  0.027324  -1.686643  \n",
      "1      0.174057  0.403473  -1.686643  \n",
      "2      1.261448  0.403473  -0.706865  \n",
      "3     -0.053537  0.084279   0.173274  \n",
      "4      0.275209  0.522389   0.106848  \n",
      "..          ...       ...        ...  \n",
      "200    0.249921  0.446659   1.717669  \n",
      "201    1.413178  0.722042   1.717669  \n",
      "202    0.755685  1.027468   1.717669  \n",
      "203    0.047616  1.150765   1.717669  \n",
      "204    0.249921  1.170167   1.717669  \n",
      "\n",
      "[205 rows x 20 columns]\n"
     ]
    },
    {
     "name": "stderr",
     "output_type": "stream",
     "text": [
      "C:\\Users\\Siddh\\AppData\\Local\\Temp\\ipykernel_9504\\3743227072.py:1: FutureWarning: Dropping of nuisance columns in DataFrame reductions (with 'numeric_only=None') is deprecated; in a future version this will raise TypeError.  Select only valid columns before calling the reduction.\n",
      "  mean = encore.mean()\n",
      "C:\\Users\\Siddh\\AppData\\Local\\Temp\\ipykernel_9504\\3743227072.py:2: FutureWarning: Dropping of nuisance columns in DataFrame reductions (with 'numeric_only=None') is deprecated; in a future version this will raise TypeError.  Select only valid columns before calling the reduction.\n",
      "  StdDev = encore.std()\n"
     ]
    }
   ],
   "source": [
    "mean = encore.mean()\n",
    "StdDev = encore.std()\n",
    "Normalize = (encore - mean)/StdDev\n",
    "print(Normalize)"
   ]
  },
  {
   "cell_type": "code",
   "execution_count": 75,
   "id": "1ce79954",
   "metadata": {},
   "outputs": [
    {
     "name": "stdout",
     "output_type": "stream",
     "text": [
      "carlength         -1.011440e-14\n",
      "carwidth           1.430401e-14\n",
      "curbweight         1.261863e-16\n",
      "cylindernumber              NaN\n",
      "drivewheel_4wd    -2.085053e-17\n",
      "drivewheel_fwd     1.299773e-16\n",
      "drivewheel_rwd    -2.382918e-17\n",
      "enginesize         2.897411e-17\n",
      "fuelsystem_1bbl    8.069426e-17\n",
      "fuelsystem_2bbl    1.624717e-17\n",
      "fuelsystem_4bbl   -1.378301e-16\n",
      "fuelsystem_idi     5.496958e-17\n",
      "fuelsystem_mfi    -4.129488e-17\n",
      "fuelsystem_mpfi    2.567052e-16\n",
      "fuelsystem_spdi    2.217738e-16\n",
      "fuelsystem_spfi   -6.634260e-18\n",
      "highwaympg         1.792604e-16\n",
      "horsepower         1.775003e-16\n",
      "price              1.353931e-16\n",
      "wheelbase         -2.013999e-14\n",
      "dtype: float64\n"
     ]
    },
    {
     "data": {
      "text/plain": [
       "carlength          1.0\n",
       "carwidth           1.0\n",
       "curbweight         1.0\n",
       "cylindernumber     NaN\n",
       "drivewheel_4wd     1.0\n",
       "drivewheel_fwd     1.0\n",
       "drivewheel_rwd     1.0\n",
       "enginesize         1.0\n",
       "fuelsystem_1bbl    1.0\n",
       "fuelsystem_2bbl    1.0\n",
       "fuelsystem_4bbl    1.0\n",
       "fuelsystem_idi     1.0\n",
       "fuelsystem_mfi     1.0\n",
       "fuelsystem_mpfi    1.0\n",
       "fuelsystem_spdi    1.0\n",
       "fuelsystem_spfi    1.0\n",
       "highwaympg         1.0\n",
       "horsepower         1.0\n",
       "price              1.0\n",
       "wheelbase          1.0\n",
       "dtype: float64"
      ]
     },
     "execution_count": 75,
     "metadata": {},
     "output_type": "execute_result"
    }
   ],
   "source": [
    "print(Normalize.mean())\n",
    "Normalize.std()"
   ]
  },
  {
   "cell_type": "code",
   "execution_count": 76,
   "id": "2a6fc95b",
   "metadata": {},
   "outputs": [
    {
     "data": {
      "text/plain": [
       "carlength         -1.011440e-14\n",
       "carwidth           1.430401e-14\n",
       "curbweight         1.261863e-16\n",
       "cylindernumber              NaN\n",
       "drivewheel_4wd    -2.085053e-17\n",
       "drivewheel_fwd     1.299773e-16\n",
       "drivewheel_rwd    -2.382918e-17\n",
       "enginesize         2.897411e-17\n",
       "fuelsystem_1bbl    8.069426e-17\n",
       "fuelsystem_2bbl    1.624717e-17\n",
       "fuelsystem_4bbl   -1.378301e-16\n",
       "fuelsystem_idi     5.496958e-17\n",
       "fuelsystem_mfi    -4.129488e-17\n",
       "fuelsystem_mpfi    2.567052e-16\n",
       "fuelsystem_spdi    2.217738e-16\n",
       "fuelsystem_spfi   -6.634260e-18\n",
       "highwaympg         1.792604e-16\n",
       "horsepower         1.775003e-16\n",
       "price              1.353931e-16\n",
       "wheelbase         -2.013999e-14\n",
       "dtype: float64"
      ]
     },
     "execution_count": 76,
     "metadata": {},
     "output_type": "execute_result"
    }
   ],
   "source": [
    "Normalize.min()\n",
    "#print(Normalized)\n",
    "Normalize.mean()"
   ]
  },
  {
   "cell_type": "code",
   "execution_count": 56,
   "id": "300bae78",
   "metadata": {},
   "outputs": [
    {
     "data": {
      "text/plain": [
       "Index(['horsepower', 'enginesize', 'cylindernumber', 'carlength', 'carwidth',\n",
       "       'highwaympg', 'wheelbase', 'curbweight', 'fuelsystem_1bbl',\n",
       "       'fuelsystem_2bbl', 'fuelsystem_4bbl', 'fuelsystem_idi',\n",
       "       'fuelsystem_mfi', 'fuelsystem_mpfi', 'fuelsystem_spdi',\n",
       "       'fuelsystem_spfi', 'drivewheel_4wd', 'drivewheel_fwd',\n",
       "       'drivewheel_rwd'],\n",
       "      dtype='object')"
      ]
     },
     "execution_count": 56,
     "metadata": {},
     "output_type": "execute_result"
    }
   ],
   "source": [
    "Normalize.columns"
   ]
  },
  {
   "cell_type": "code",
   "execution_count": 87,
   "id": "9531e5dd",
   "metadata": {},
   "outputs": [],
   "source": [
    "# import matplotlib.pyplot as plt\n",
    "# # Assuming the dataset is in a pandas DataFrame called 'df'\n",
    "# # and the target variable is 'price'\n",
    "# # Normalize the features using z-score normalization\n",
    "# mean = np.mean(Normalize.iloc[:, :-1], axis=0)\n",
    "# std = np.std(Normalize.iloc[:, :-1], axis=0)\n",
    "# X = (Normalize.iloc[:, :-1] - mean) / std\n",
    "# # Add a column of ones to the dataset for the bias term\n",
    "# #X = np.insert(X, 0, 1, axis=1)\n",
    "# # Separate the features and the target variable\n",
    "# y = Normalize.iloc[:, -1].values\n",
    "# # Calculate the transpose of X\n",
    "# X_transpose = np.transpose(X)\n",
    "# # Calculate the normal equation\n",
    "# normal_equation = np.linalg.inv(X_transpose.dot(X)).dot(X_transpose).dot(y)\n",
    "# # The normal equation gives the coefficients of the linear regression model\n",
    "# coefficients = normal_equation\n",
    "# # Print the coefficients\n",
    "# print('Coefficients:', coefficients)\n",
    "# # Define a function to make predictions using the coefficients\n",
    "# def predict(features):\n",
    "#     return np.dot(features, coefficients)\n",
    "# # Make predictions on new data\n",
    "# new_data = np.array([[1, 0, 0, 0, 0, 0, 0, 0, 0, 0, 0, 0, 0, 0, 0, 0, 0, 0, 0, 0, 0, 0, 0]])\n",
    "# prediction = predict(new_data)\n",
    "# print('Prediction:', prediction)\n",
    "# # Plot the least fit curve\n",
    "# X_fit = np.linspace(np.min(X[:, 1:]) - 1, np.max(X[:, 1:]) + 1, 100)\n",
    "# y_fit = coefficients[0] + coefficients[1:].dot(X_fit)\n",
    "# plt.scatter(X[:, 1:], y, color='black')\n",
    "# plt.plot(X_fit, y_fit, color='red', linewidth=2)\n",
    "# plt.title('Least Fit Curve')\n",
    "# plt.xlabel('Normalized Features')\n",
    "# plt.ylabel('Price')\n",
    "# plt.show()"
   ]
  },
  {
   "cell_type": "code",
   "execution_count": 86,
   "id": "0d7ccdf5",
   "metadata": {},
   "outputs": [
    {
     "data": {
      "image/png": "[encoded data removed]",
      "text/plain": [
       "<Figure size 640x480 with 1 Axes>"
      ]
     },
     "metadata": {},
     "output_type": "display_data"
    }
   ],
   "source": [
    "# Load the dataset\n",
    "X = np.array(Normalize[['horsepower', 'enginesize', 'cylindernumber', 'carlength', 'carwidth',\n",
    "       'highwaympg', 'wheelbase', 'curbweight', 'fuelsystem_1bbl',\n",
    "       'fuelsystem_2bbl', 'fuelsystem_4bbl', 'fuelsystem_idi',\n",
    "       'fuelsystem_mfi', 'fuelsystem_mpfi', 'fuelsystem_spdi',\n",
    "       'fuelsystem_spfi', 'drivewheel_4wd', 'drivewheel_fwd',\n",
    "       'drivewheel_rwd']].head(19))\n",
    "y = np.array(Normalize['price'].head(19))\n",
    "# Calculate the mean and standard deviation of the feature and target variables\n",
    "X_mean = X.mean()\n",
    "y_mean = y.mean()\n",
    "X_std = X.std()\n",
    "y_std = y.std()\n",
    "# Standardize the feature and target variables\n",
    "X = (X - X_mean) / X_std\n",
    "y = (y - y_mean) / y_std\n",
    "# Calculate the slope and intercept of the regression line\n",
    "slope = np.dot(X.T, y) / np.dot(X.T, X)\n",
    "intercept = y_mean - slope * X_mean\n",
    "# Calculate the slope and intercept of the regression line\n",
    "slope = np.dot(X.T, y) / np.dot(X.T, X)\n",
    "intercept = y_mean - slope * X_mean\n",
    "# Make predictions on new data\n",
    "new_data = np.array([[100, 2000, 4, 100, 100, 14, 95,3000,0,1,0,0,0,0,0,0,1,0,0]])\n",
    "new_data = (new_data - X_mean) / X_std\n",
    "prediction = slope * new_data + intercept\n",
    "prediction = y_std * prediction + y_mean\n",
    "# Plot the least fit curve\n",
    "pl.scatter(X[:, 0], y)\n",
    "pl.plot(X[:, 0], slope * X[:, 0] + intercept, color='red')\n",
    "pl.title('Least Fit Curve')\n",
    "pl.xlabel('Horsepower')\n",
    "pl.ylabel('Price')\n",
    "pl.show()"
   ]
  },
  {
   "cell_type": "code",
   "execution_count": null,
   "id": "7996aa94",
   "metadata": {},
   "outputs": [],
   "source": []
  }
 ],
 "metadata": {
  "kernelspec": {
   "display_name": "Python 3 (ipykernel)",
   "language": "python",
   "name": "python3"
  },
  "language_info": {
   "codemirror_mode": {
    "name": "ipython",
    "version": 3
   },
   "file_extension": ".py",
   "mimetype": "text/x-python",
   "name": "python",
   "nbconvert_exporter": "python",
   "pygments_lexer": "ipython3",
   "version": "3.9.13"
  }
 },
 "nbformat": 4,
 "nbformat_minor": 5
}
